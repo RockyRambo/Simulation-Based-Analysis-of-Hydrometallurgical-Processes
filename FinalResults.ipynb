{
 "cells": [
  {
   "cell_type": "markdown",
   "metadata": {},
   "source": [
    "# Simulation-Based Analysis of Hydrometallurgical Processes. Case Study: Small-Scale Gold Mining in Ecuador.\n"
   ]
  },
  {
   "cell_type": "markdown",
   "metadata": {},
   "source": [
    "### First get data from repository and select it using the headers."
   ]
  },
  {
   "cell_type": "markdown",
   "metadata": {},
   "source": [
    "##### Data set of four (4) steady-state  process simulations of hydrometallurgical processes. The data sets have 1200 points each, so in total we have 4800 data points. The first 2400 points have five attributes and three targets of interest, and the remainder 2400 points have four attributes and three targets."
   ]
  },
  {
   "cell_type": "code",
   "execution_count": null,
   "metadata": {},
   "outputs": [],
   "source": [
    "import pandas as pd\n",
    "import numpy as np\n",
    "import matplotlib.pylab as plt\n",
    "import seaborn as sns\n",
    "\n",
    "headers_in_CN = [\"Conv_Lix._1\", \"Conv_Lix._2\", \"Conv_Ads.\", \"Conv_Eluc.\", \"Price Au $/Gram\"]\n",
    "headers_out_CN = [\"CF, [USD/year]\", \"PROFIT, [USD/year]\"]\n",
    "headers_in_TS = [\"Conv_Lix.\", \"Conv_Ads.\", \"Conv_Eluc.\", \"Price Au $/Gram\"]\n",
    "headers_out_TS = [\"CF, [USD/year]\", \"PROFIT, [USD/year]\"]\n",
    "head_out = [\"Au Recovery, [%]\"]\n",
    "## DF\n",
    "data1 = pd.read_excel(\"./Case1.xlsx\", sheet_name=\"Results\")\n",
    "data2 = pd.read_excel(\"./Case2.xlsx\", sheet_name=\"Results\")\n",
    "data3 = pd.read_excel(\"./Case3.xlsx\", sheet_name=\"Results\")\n",
    "data4 = pd.read_excel(\"./Case4.xlsx\", sheet_name=\"Results\")"
   ]
  },
  {
   "cell_type": "markdown",
   "metadata": {},
   "source": [
    "### Summary Statistics of the four Cases"
   ]
  },
  {
   "cell_type": "code",
   "execution_count": null,
   "metadata": {},
   "outputs": [],
   "source": [
    "## DF in and out\n",
    "in_CN_1 = data1[headers_in_CN]\n",
    "out_CN_1_Au = data1[head_out]\n",
    "out_CN_1 = data1[headers_out_CN]/1E6\n",
    "CN_1 = pd.concat([in_CN_1, out_CN_1_Au, out_CN_1], axis=1)\n",
    "stats1 = CN_1.describe()\n",
    "print(stats1)\n",
    "\n",
    "in_CN_2 = data2[headers_in_CN]\n",
    "out_CN_2_Au = data2[head_out]\n",
    "out_CN_2 = data2[headers_out_CN]/1E6\n",
    "CN_2 = pd.concat([in_CN_2, out_CN_2_Au, out_CN_2], axis=1)\n",
    "stats2 = CN_2.describe()\n",
    "print(stats2)\n",
    "\n",
    "in_TS_1 = data3[headers_in_TS]\n",
    "out_TS_1_Au = data3[head_out]\n",
    "out_TS_1 = data3[headers_out_TS]/1E6\n",
    "TS_1 = pd.concat([in_TS_1, out_TS_1_Au, out_TS_1], axis=1)\n",
    "stats3 = TS_1.describe()\n",
    "print(stats3)\n",
    "\n",
    "in_TS_2 = data4[headers_in_TS]\n",
    "out_TS_2_Au = data4[head_out]\n",
    "out_TS_2 = data4[headers_out_TS]/1E6\n",
    "TS_2 = pd.concat([in_TS_2, out_TS_2_Au, out_TS_2], axis=1)\n",
    "stats4 = TS_2.describe()\n",
    "print(stats4)"
   ]
  },
  {
   "cell_type": "markdown",
   "metadata": {},
   "source": [
    "### Figure 4 and Figure 5."
   ]
  },
  {
   "cell_type": "code",
   "execution_count": null,
   "metadata": {},
   "outputs": [],
   "source": [
    "#### Normal distribution - Annualized Profitability\n",
    "\n",
    "p_1 = data1[\"PROFIT, [USD/year]\"]/1E6\n",
    "p_2 = data2[\"PROFIT, [USD/year]\"]/1E6\n",
    "p_3 = data3[\"PROFIT, [USD/year]\"]/1E6\n",
    "p_4 = data4[\"PROFIT, [USD/year]\"]/1E6\n",
    "\n",
    "PROFIT = pd.concat([p_1, p_2, p_3, p_4], axis=1)\n",
    "\n",
    "sns.distplot(p_1, hist=False, color='k', kde_kws={'linestyle':'--'})\n",
    "sns.distplot(p_2, hist=False, color='k')\n",
    "sns.distplot(p_3, hist=False, color='b', kde_kws={'linestyle':'--'})\n",
    "sns.distplot(p_4, hist=False, color='b')\n",
    "plt.ylabel('Density')\n",
    "plt.xlabel('Annualized profitability, [MM USD/year]')\n",
    "plt.show()\n",
    "\n",
    "#### Normal distribution - Gold Recovery\n",
    "\n",
    "p_1Au = data1[\"Au Recovery, [%]\"]\n",
    "p_2Au = data2[\"Au Recovery, [%]\"]\n",
    "p_3Au = data3[\"Au Recovery, [%]\"]\n",
    "p_4Au = data4[\"Au Recovery, [%]\"]\n",
    "\n",
    "Au = pd.concat([p_1Au, p_2Au, p_3Au, p_4Au], axis=1)\n",
    "\n",
    "sns.distplot(p_1Au, hist=False, color='k', kde_kws={'linestyle':'--'})\n",
    "sns.distplot(p_2Au, hist=False, color='k')\n",
    "sns.distplot(p_3Au, hist=False, color='b', kde_kws={'linestyle':'--'})\n",
    "sns.distplot(p_4Au, hist=False, color='b')\n",
    "plt.ylabel('Density')\n",
    "plt.xlabel('Gold Recovery, [%]')\n",
    "plt.show()"
   ]
  },
  {
   "cell_type": "markdown",
   "metadata": {},
   "source": [
    "### Figure 6"
   ]
  },
  {
   "cell_type": "code",
   "execution_count": null,
   "metadata": {},
   "outputs": [],
   "source": [
    "#### Comparison for CN\n",
    "data_CN1 = pd.concat([out_CN_1_Au, out_CN_1], axis=1)\n",
    "data_CN1.insert(0,'Scenario','without Hg removal')\n",
    "\n",
    "data_CN2 = pd.concat([out_CN_2_Au, out_CN_2], axis=1)\n",
    "data_CN2.insert(0,'Scenario','with Hg removal')\n",
    "\n",
    "data_CN = pd.concat([data_CN1, data_CN2], axis=0)\n",
    "data_CN = data_CN.rename(columns = {\"CF, [USD/year]\":\"CF, [MM USD/year]\", \"PROFIT, [USD/year]\":\"PROFIT, [MM USD/year]\"})\n",
    "\n",
    "sns.pairplot(data_CN,hue=('Scenario'))\n",
    "plt.show()"
   ]
  },
  {
   "cell_type": "markdown",
   "metadata": {},
   "source": [
    "### Figure 7"
   ]
  },
  {
   "cell_type": "code",
   "execution_count": null,
   "metadata": {},
   "outputs": [],
   "source": [
    "##### Pearson correlation index for CN\n",
    "\n",
    "CN_1 = CN_1.rename(columns = {\"Conv_Lix._1\":\"$\\dot{\\Theta_{1}}$\", \"Conv_Lix._2\":\"$\\dot{\\Theta_{2}}$\", \"Conv_Ads.\":\"$\\dot{\\Theta_{3}}$\", \"Conv_Eluc.\":\"$\\dot{\\Theta_{4}}$\", \"Price Au $/Gram\":\"$\\dot{\\Theta_{5}}$\", \"Au Recovery, [%]\":\"$\\dot{y_{1}}$\", \"CF, [USD/year]\":\"$\\dot{y_{2}}$\", \"PROFIT, [USD/year]\":\"$\\dot{y_{3}}$\"})\n",
    "\n",
    "pearsoncorrCN_1 = CN_1.corr(method='pearson')\n",
    "sns.heatmap(pearsoncorrCN_1, \n",
    "            xticklabels=pearsoncorrCN_1.columns,\n",
    "            yticklabels=pearsoncorrCN_1.columns,\n",
    "            cmap='RdBu_r',\n",
    "            linewidth=0.5)\n",
    "plt.show()\n",
    "\n",
    "CN_2 = CN_2.rename(columns = {\"Conv_Lix._1\":\"$\\dot{\\Theta_{1}}$\", \"Conv_Lix._2\":\"$\\dot{\\Theta_{2}}$\", \"Conv_Ads.\":\"$\\dot{\\Theta_{3}}$\", \"Conv_Eluc.\":\"$\\dot{\\Theta_{4}}$\", \"Price Au $/Gram\":\"$\\dot{\\Theta_{5}}$\", \"Au Recovery, [%]\":\"$\\dot{y_{1}}$\", \"CF, [USD/year]\":\"$\\dot{y_{2}}$\", \"PROFIT, [USD/year]\":\"$\\dot{y_{3}}$\"})\n",
    "\n",
    "pearsoncorrCN_2 = CN_2.corr(method='pearson')\n",
    "sns.heatmap(pearsoncorrCN_2,\n",
    "            xticklabels=pearsoncorrCN_2.columns,\n",
    "            yticklabels=pearsoncorrCN_2.columns,\n",
    "            cmap='RdBu_r',\n",
    "            # annot=True,\n",
    "            linewidth=0.5)\n",
    "plt.show()"
   ]
  },
  {
   "cell_type": "markdown",
   "metadata": {},
   "source": [
    "### Figure 8"
   ]
  },
  {
   "cell_type": "code",
   "execution_count": null,
   "metadata": {},
   "outputs": [],
   "source": [
    "#### Comparison for TS\n",
    "data_TS1 = pd.concat([out_TS_1_Au, out_TS_1], axis=1)\n",
    "data_TS1.insert(0,'Scenario','without Hg removal')\n",
    "\n",
    "data_TS2 = pd.concat([out_TS_2_Au, out_TS_2], axis=1)\n",
    "data_TS2.insert(0,'Scenario','with Hg removal')\n",
    "\n",
    "data_TS = pd.concat([data_TS1, data_TS2], axis=0)\n",
    "data_TS = data_TS.rename(columns = {\"CF, [USD/year]\":\"CF, [MM USD/year]\", \"PROFIT, [USD/year]\":\"PROFIT, [MM USD/year]\"})\n",
    "\n",
    "sns.pairplot(data_TS,hue=('Scenario'))\n",
    "plt.show()"
   ]
  },
  {
   "cell_type": "markdown",
   "metadata": {},
   "source": [
    "### Figure 9"
   ]
  },
  {
   "cell_type": "code",
   "execution_count": null,
   "metadata": {},
   "outputs": [],
   "source": [
    "##### Pearson correlation index for TS\n",
    "\n",
    "TS_1 = TS_1.rename(columns = {\"Conv_Lix.\":\"$\\dot{\\Theta_{1}}$\", \"Conv_Ads.\":\"$\\dot{\\Theta_{2}}$\", \"Conv_Eluc.\":\"$\\dot{\\Theta_{3}}$\", \"Price Au $/Gram\":\"$\\dot{\\Theta_{4}}$\", \"Au Recovery, [%]\":\"$\\dot{y_{1}}$\", \"CF, [USD/year]\":\"$\\dot{y_{2}}$\", \"PROFIT, [USD/year]\":\"$\\dot{y_{3}}$\"})\n",
    "\n",
    "pearsoncorrTS_1 = TS_1.corr(method='pearson')\n",
    "sns.heatmap(pearsoncorrTS_1, \n",
    "            xticklabels=pearsoncorrTS_1.columns,\n",
    "            yticklabels=pearsoncorrTS_1.columns,\n",
    "            cmap='RdBu_r',\n",
    "            linewidth=0.5)\n",
    "plt.show()\n",
    "\n",
    "TS_2 = TS_2.rename(columns = {\"Conv_Lix.\":\"$\\dot{\\Theta_{1}}$\", \"Conv_Ads.\":\"$\\dot{\\Theta_{2}}$\", \"Conv_Eluc.\":\"$\\dot{\\Theta_{3}}$\", \"Price Au $/Gram\":\"$\\dot{\\Theta_{4}}$\", \"Au Recovery, [%]\":\"$\\dot{y_{1}}$\", \"CF, [USD/year]\":\"$\\dot{y_{2}}$\", \"PROFIT, [USD/year]\":\"$\\dot{y_{3}}$\"})\n",
    "\n",
    "pearsoncorrTS_2 = TS_2.corr(method='pearson')\n",
    "sns.heatmap(pearsoncorrTS_2,\n",
    "            xticklabels=pearsoncorrTS_2.columns,\n",
    "            yticklabels=pearsoncorrTS_2.columns,\n",
    "            cmap='RdBu_r',\n",
    "            linewidth=0.5)\n",
    "plt.show()"
   ]
  }
 ],
 "metadata": {
  "kernelspec": {
   "display_name": "Python 3",
   "language": "python",
   "name": "python3"
  },
  "language_info": {
   "codemirror_mode": {
    "name": "ipython",
    "version": 3
   },
   "file_extension": ".py",
   "mimetype": "text/x-python",
   "name": "python",
   "nbconvert_exporter": "python",
   "pygments_lexer": "ipython3",
   "version": "3.7.6"
  }
 },
 "nbformat": 4,
 "nbformat_minor": 4
}
